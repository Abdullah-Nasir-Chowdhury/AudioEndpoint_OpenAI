{
 "cells": [
  {
   "cell_type": "markdown",
   "id": "ea2ac7ac",
   "metadata": {},
   "source": [
    "## Setup the environment"
   ]
  },
  {
   "cell_type": "code",
   "execution_count": 1,
   "id": "95557d47",
   "metadata": {},
   "outputs": [
    {
     "data": {
      "text/plain": [
       "True"
      ]
     },
     "execution_count": 1,
     "metadata": {},
     "output_type": "execute_result"
    }
   ],
   "source": [
    "import os, openai, dotenv\n",
    "from dotenv import main\n",
    "main.load_dotenv()"
   ]
  },
  {
   "cell_type": "markdown",
   "id": "7ea82531",
   "metadata": {},
   "source": [
    "## Set your API key"
   ]
  },
  {
   "cell_type": "code",
   "execution_count": 2,
   "id": "69abc035",
   "metadata": {},
   "outputs": [],
   "source": [
    "openai.api_key = os.getenv(\"OPENAI_API_KEY\")"
   ]
  },
  {
   "cell_type": "code",
   "execution_count": 4,
   "id": "82e2b227",
   "metadata": {},
   "outputs": [],
   "source": [
    "audio_file = open(\"recording.mp4\", \"rb\")"
   ]
  },
  {
   "cell_type": "markdown",
   "id": "81cd3ed0",
   "metadata": {},
   "source": [
    "# Transcribe Audio Files:"
   ]
  },
  {
   "cell_type": "code",
   "execution_count": 5,
   "id": "f35b9094",
   "metadata": {},
   "outputs": [],
   "source": [
    "response = openai.Audio.transcribe(\"whisper-1\",audio_file)"
   ]
  },
  {
   "cell_type": "code",
   "execution_count": 6,
   "id": "c59e14ed",
   "metadata": {},
   "outputs": [
    {
     "name": "stdout",
     "output_type": "stream",
     "text": [
      "{\n",
      "  \"text\": \"all right so now I'm going to be talking about a news that I recently heard and the news that I recently heard was about the onset of the war between Israel and Palestine it was a shock to me when I suddenly came across this news on whatsapp on whatsapp story of one of my juniors so what he portrayed what was portrayed in this story was how the rockets were being sent flying from the Hamas base and how Hamas had sent military forces to come down and start massacring the Israelis at a party so the Israeli people attending the party were obviously bystanders and they were they had nothing to do with the with the dominance and with the terror attacks on Palestine but they ended up a lot of the innocent people ended up being killed and this actually made my the news actually spread like wildfire all across the world and and this news was one of the news that actually made my heart lose a beat so this was because I really wasn't expecting to hear something as gruesome as this take place and this could have been the onset of the third world war the Muslims versus the Jews but thanks to Allah and nothing like that actually took place and the Israelis however they retaliated and they retaliated very severely against the Palestinians and this wasn't really something you wouldn't expect you wouldn't have seen this coming this is something that anybody would have seen coming because Israel is a very strong military force and so the way they started attacking Gaza and the other Muslims in Palestine was really heartbreaking for me\"\n",
      "}\n"
     ]
    }
   ],
   "source": [
    "print(response)"
   ]
  },
  {
   "cell_type": "code",
   "execution_count": 7,
   "id": "5e35ab5c",
   "metadata": {},
   "outputs": [
    {
     "name": "stdout",
     "output_type": "stream",
     "text": [
      "all right so now I'm going to be talking about a news that I recently heard and the news that I recently heard was about the onset of the war between Israel and Palestine it was a shock to me when I suddenly came across this news on whatsapp on whatsapp story of one of my juniors so what he portrayed what was portrayed in this story was how the rockets were being sent flying from the Hamas base and how Hamas had sent military forces to come down and start massacring the Israelis at a party so the Israeli people attending the party were obviously bystanders and they were they had nothing to do with the with the dominance and with the terror attacks on Palestine but they ended up a lot of the innocent people ended up being killed and this actually made my the news actually spread like wildfire all across the world and and this news was one of the news that actually made my heart lose a beat so this was because I really wasn't expecting to hear something as gruesome as this take place and this could have been the onset of the third world war the Muslims versus the Jews but thanks to Allah and nothing like that actually took place and the Israelis however they retaliated and they retaliated very severely against the Palestinians and this wasn't really something you wouldn't expect you wouldn't have seen this coming this is something that anybody would have seen coming because Israel is a very strong military force and so the way they started attacking Gaza and the other Muslims in Palestine was really heartbreaking for me\n"
     ]
    }
   ],
   "source": [
    "print(response[\"text\"])"
   ]
  },
  {
   "cell_type": "markdown",
   "id": "bd73fcd9",
   "metadata": {},
   "source": [
    "# Transcribe and Translate Audio files:"
   ]
  },
  {
   "cell_type": "code",
   "execution_count": 8,
   "id": "80f7cf16",
   "metadata": {},
   "outputs": [],
   "source": [
    "arabic_audio_file = open(\"arabic_rec.mp4\", \"rb\")"
   ]
  },
  {
   "cell_type": "code",
   "execution_count": 9,
   "id": "43c51020",
   "metadata": {},
   "outputs": [],
   "source": [
    "response = openai.Audio.translate(\"whisper-1\", arabic_audio_file)"
   ]
  },
  {
   "cell_type": "code",
   "execution_count": 10,
   "id": "2b913fb0",
   "metadata": {},
   "outputs": [
    {
     "name": "stdout",
     "output_type": "stream",
     "text": [
      "{\n",
      "  \"text\": \"I am from Bangladesh. I know Arabic. Are you crazy, brother?\"\n",
      "}\n"
     ]
    }
   ],
   "source": [
    "print(response)"
   ]
  },
  {
   "cell_type": "code",
   "execution_count": 11,
   "id": "93cef38d",
   "metadata": {},
   "outputs": [
    {
     "name": "stdout",
     "output_type": "stream",
     "text": [
      "I am from Bangladesh. I know Arabic. Are you crazy, brother?\n"
     ]
    }
   ],
   "source": [
    "print(response[\"text\"])"
   ]
  },
  {
   "cell_type": "markdown",
   "id": "fe7451e8",
   "metadata": {},
   "source": [
    "# Adding Prompt for context"
   ]
  },
  {
   "cell_type": "code",
   "execution_count": 21,
   "id": "3411afaf",
   "metadata": {},
   "outputs": [],
   "source": [
    "prompt = \"The audio is about me trying to be a human.\" "
   ]
  },
  {
   "cell_type": "code",
   "execution_count": 22,
   "id": "72c90ea6",
   "metadata": {},
   "outputs": [],
   "source": [
    "bangla_audio_file = open(\"bangla_rec.mp4\", \"rb\")"
   ]
  },
  {
   "cell_type": "code",
   "execution_count": 23,
   "id": "9d9b38b1",
   "metadata": {
    "scrolled": true
   },
   "outputs": [],
   "source": [
    "response = openai.Audio.translate(\"whisper-1\", \n",
    "                                  bangla_audio_file, \n",
    "                                  prompt=prompt)"
   ]
  },
  {
   "cell_type": "code",
   "execution_count": 24,
   "id": "23224d5b",
   "metadata": {},
   "outputs": [
    {
     "name": "stdout",
     "output_type": "stream",
     "text": [
      "{\n",
      "  \"text\": \"I live in Bangladesh. I was born and raised in Bangladesh. I am coming from Bangladesh. I will try to do something good. Everyone will pray for me.\"\n",
      "}\n"
     ]
    }
   ],
   "source": [
    "print(response)"
   ]
  },
  {
   "cell_type": "code",
   "execution_count": null,
   "id": "fd83f7b4",
   "metadata": {},
   "outputs": [],
   "source": []
  }
 ],
 "metadata": {
  "kernelspec": {
   "display_name": "Python 3 (ipykernel)",
   "language": "python",
   "name": "python3"
  },
  "language_info": {
   "codemirror_mode": {
    "name": "ipython",
    "version": 3
   },
   "file_extension": ".py",
   "mimetype": "text/x-python",
   "name": "python",
   "nbconvert_exporter": "python",
   "pygments_lexer": "ipython3",
   "version": "3.9.12"
  }
 },
 "nbformat": 4,
 "nbformat_minor": 5
}
